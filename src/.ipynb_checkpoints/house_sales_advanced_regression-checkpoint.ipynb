{
 "cells": [
  {
   "cell_type": "markdown",
   "id": "738b956c-76a9-4c12-8ff9-b6de9ee6678f",
   "metadata": {},
   "source": [
    "# Import Packages"
   ]
  },
  {
   "cell_type": "code",
   "execution_count": null,
   "id": "526dce16-8a9a-4dfe-b109-0a851aa20533",
   "metadata": {},
   "outputs": [],
   "source": [
    "import pandas as pd\n",
    "import numpy as np\n",
    "import math\n",
    "import matplotlib.pyplot as plt\n",
    "from matplotlib.ticker import FuncFormatter\n",
    "import seaborn as sns\n",
    "import sklearn\n",
    "from sklearn.pipeline import Pipeline, make_pipeline\n",
    "from sklearn.compose import make_column_transformer, ColumnTransformer\n",
    "from sklearn.impute import SimpleImputer\n",
    "from sklearn.preprocessing import OrdinalEncoder, StandardScaler, OneHotEncoder\n",
    "from sklearn.metrics import mean_squared_error\n",
    "from sklearn.model_selection import GridSearchCV\n",
    "from sklearn.ensemble import RandomForestRegressor\n",
    "from sklearn.svm import SVR\n",
    "import xgboost as xgb"
   ]
  },
  {
   "cell_type": "markdown",
   "id": "f53e780a-4abd-426d-8e0b-2f43440bb9f2",
   "metadata": {},
   "source": [
    "# Data Exploration & Analysis"
   ]
  },
  {
   "cell_type": "code",
   "execution_count": null,
   "id": "3ecf8fc7-87a5-4cc4-8117-2dd4a62ed261",
   "metadata": {},
   "outputs": [],
   "source": [
    "# import data\n",
    "train_data=pd.read_csv('train.csv')\n",
    "test_data=pd.read_csv('test.csv')"
   ]
  },
  {
   "cell_type": "code",
   "execution_count": null,
   "id": "a5d72c36-e63a-4bff-8304-db0a99805154",
   "metadata": {},
   "outputs": [],
   "source": [
    "# get data information\n",
    "print(train_data.info())"
   ]
  },
  {
   "cell_type": "code",
   "execution_count": null,
   "id": "ddc51ffc-8bc8-4ef6-adfb-76412c98fd22",
   "metadata": {},
   "outputs": [],
   "source": [
    "# get data summaries\n",
    "print(train_data.describe())"
   ]
  },
  {
   "cell_type": "code",
   "execution_count": null,
   "id": "9dc34936-cc2c-405d-b6fa-a61678dea6ba",
   "metadata": {},
   "outputs": [],
   "source": [
    "# get missing or NaN vals\n",
    "missing_values_df = pd.DataFrame(train_data.isnull().sum().reset_index())\n",
    "missing_values_df.columns = ['column', 'count']\n",
    "\n",
    "print(missing_values_df.query('count > 0').sort_values(by = 'count', ascending = False))"
   ]
  },
  {
   "cell_type": "code",
   "execution_count": null,
   "id": "39e5276e-96fc-4e5c-8455-8c4af5db570b",
   "metadata": {},
   "outputs": [],
   "source": [
    "# define numeric features\n",
    "num_train = train_data.select_dtypes(include='number')\n",
    "\n",
    "# create correlation plot\n",
    "corr = num_train.corr()\n",
    "plt.figure(figsize=(16, 12))\n",
    "sns.heatmap(corr, cmap='PiYG', cbar=True, vmin=-1, vmax=1, linewidth = 0.4, linecolor = 'grey')\n",
    "plt.title('Correlation Matrix', fontsize=18)\n",
    "plt.show()"
   ]
  },
  {
   "cell_type": "code",
   "execution_count": null,
   "id": "61478346-77aa-4448-8d6d-8004c4ac216e",
   "metadata": {},
   "outputs": [],
   "source": [
    "# create density plot\n",
    "def dollars(x, _):\n",
    "    return f'${int(x):,}'\n",
    "\n",
    "plt.figure(figsize=(14, 6))\n",
    "sns.kdeplot(data=train_data.SalePrice, color='limegreen', fill=True)\n",
    "plt.xlabel('Sales Price')\n",
    "plt.gca().xaxis.set_major_formatter(FuncFormatter(dollars))\n",
    "plt.title('Sales Price Density Plot', fontsize=18)\n",
    "plt.show()"
   ]
  },
  {
   "cell_type": "code",
   "execution_count": null,
   "id": "fa8d46af-6983-46ba-b77c-ce66b9dd0018",
   "metadata": {},
   "outputs": [],
   "source": [
    "# log transform sale price\n",
    "train_data_y=np.log(train_data.SalePrice)\n",
    "\n",
    "# create density plot\n",
    "plt.figure(figsize=(14, 6))\n",
    "sns.kdeplot(data=train_data_y, color='limegreen', fill=True)\n",
    "plt.xlabel('Sales Price (log transformed)')\n",
    "plt.title('Log Transformed Sales Price Density Plot', fontsize=18)\n",
    "plt.show()"
   ]
  },
  {
   "cell_type": "markdown",
   "id": "12ce12a8-b352-4f4e-8e47-ee6f4a3e12d9",
   "metadata": {},
   "source": [
    "# Data Preprocessing"
   ]
  },
  {
   "cell_type": "code",
   "execution_count": null,
   "id": "097e6f92-e7d3-4dab-903a-e30ac2c374e3",
   "metadata": {},
   "outputs": [],
   "source": [
    "# drop Id and garage year built columns\n",
    "train_data=train_data.drop(columns=['Id','GarageYrBlt'])\n",
    "\n",
    "# hold test Id for predictions\n",
    "test_data_id=test_data['Id']\n",
    "\n",
    "# drop Id and garage year built columns from predictors\n",
    "test_data=test_data.drop(columns=['Id','GarageYrBlt'])"
   ]
  },
  {
   "cell_type": "code",
   "execution_count": null,
   "id": "4e9c4902-3979-45c4-a8da-12deaaa328c6",
   "metadata": {},
   "outputs": [],
   "source": [
    "# define columns with NaN values and their fill values\n",
    "fill_values = {\n",
    "    'PoolQC': 'No',\n",
    "    'MiscFeature': 'No',\n",
    "    'Alley': 'No',\n",
    "    'Fence': 'No',\n",
    "    'MasVnrType': 'No',\n",
    "    'MasVnrArea': 0,\n",
    "    'FireplaceQu': 'No',\n",
    "    'LotFrontage': 0,\n",
    "    'GarageCond': 'No',\n",
    "    'GarageType': 'No',\n",
    "    'GarageFinish': 'No',\n",
    "    'GarageQual': 'No',\n",
    "    'BsmtFinType2': 'No',\n",
    "    'BsmtExposure': 'No',\n",
    "    'BsmtQual': 'No',\n",
    "    'BsmtCond': 'No',\n",
    "    'BsmtFinType1': 'No',\n",
    "    'Electrical': 'No'\n",
    "}\n",
    "\n",
    "# automate filling missing values for train and test data\n",
    "for column, value in fill_values.items():\n",
    "    train_data[column].fillna(value, inplace=True)\n",
    "    test_data[column].fillna(value, inplace=True)"
   ]
  },
  {
   "cell_type": "code",
   "execution_count": null,
   "id": "fc88cdc8-a4a9-41cf-9c79-45d97766056b",
   "metadata": {},
   "outputs": [],
   "source": [
    "# create feature and outcome structures\n",
    "train_data_x=train_data.drop(columns=['SalePrice'])\n",
    "train_data_y=np.log(train_data.SalePrice)"
   ]
  },
  {
   "cell_type": "code",
   "execution_count": null,
   "id": "a082d978-9cd0-456b-8b7b-b62952d123ca",
   "metadata": {},
   "outputs": [],
   "source": [
    "# define columns needing ordinal encoding\n",
    "ordinal_cols = ['LotShape', 'LandContour','Utilities','LandSlope',  'BsmtQual',  'BsmtFinType1',  'CentralAir',  \n",
    "                'Functional', 'PoolQC','Fence','FireplaceQu', 'GarageFinish', 'GarageQual', 'GarageCond', 'PavedDrive', \n",
    "                'ExterCond', 'KitchenQual', 'BsmtExposure', 'HeatingQC','ExterQual', 'BsmtCond', 'SaleCondition',\n",
    "                'BsmtFinType2']\n",
    "\n",
    "# define columns needing one_hot encoding\n",
    "one_hot_cols = ['Street', 'LotConfig','Neighborhood', 'Condition1', 'Condition2', 'BldgType', 'HouseStyle', 'RoofStyle',\n",
    "                'Exterior1st', 'Exterior2nd', 'MasVnrType','Foundation', 'Electrical',  'SaleType', 'MSZoning', \n",
    "                'Heating', 'GarageType', 'RoofMatl','MiscFeature','Alley']\n",
    "\n",
    "# define numeric columns\n",
    "num_cols = train_data.select_dtypes(include=['numeric']).columns\n",
    "num_cols = num_cols.drop('SalePrice')"
   ]
  },
  {
   "cell_type": "code",
   "execution_count": null,
   "id": "c5e78d69-242b-4360-b262-931eeafb3043",
   "metadata": {},
   "outputs": [],
   "source": [
    "# define Pipelines to scale, encode, and impute features\n",
    "num_pipeline = Pipeline(steps=[\n",
    "    ('impute', SimpleImputer(strategy='mean')),\n",
    "    ('scaler', StandardScaler())\n",
    "])\n",
    "\n",
    "ordinal_pipeline = Pipeline(steps=[\n",
    "    ('impute', SimpleImputer(strategy='most_frequent')),\n",
    "    ('ode', OrdinalEncoder(handle_unknown='use_encoded_value', unknown_value=-1))\n",
    "])\n",
    "\n",
    "one_hot_pipeline = Pipeline(steps=[\n",
    "    ('impute', SimpleImputer(strategy='most_frequent')),\n",
    "    ('ohe', OneHotEncoder(handle_unknown='ignore', sparse_output=False))\n",
    "])"
   ]
  },
  {
   "cell_type": "code",
   "execution_count": null,
   "id": "b475bc4d-b1ac-4ace-8501-6fd8e8d64169",
   "metadata": {},
   "outputs": [],
   "source": [
    "# create column transformer based on pipelines created\n",
    "col_trans = ColumnTransformer(transformers=[\n",
    "    ('num_p', num_pipeline, num_cols),\n",
    "    ('ode_p', ordinal_pipeline, ordinal_cols),\n",
    "    ('ohe_p', one_hot_pipeline, one_hot_cols),\n",
    "    ],\n",
    "    remainder='passthrough', \n",
    "    n_jobs=-1)"
   ]
  },
  {
   "cell_type": "code",
   "execution_count": null,
   "id": "a4a3f6db-ef3e-46a3-936a-2d8fffe38937",
   "metadata": {},
   "outputs": [],
   "source": [
    "# fit the column transformer on the training features \n",
    "train_data_x=col_trans.fit_transform(train_data_x)\n",
    "\n",
    "# transform testing features\n",
    "test_data=pd.DataFrame(col_trans.transform(test_data))"
   ]
  },
  {
   "cell_type": "markdown",
   "id": "1a0e1bed-ad69-4cbb-9c68-7f40756e2ab9",
   "metadata": {},
   "source": [
    "# Model Training and Selection"
   ]
  },
  {
   "cell_type": "code",
   "execution_count": null,
   "id": "0b8572d6-b57f-4cb6-a3f1-a221370a4652",
   "metadata": {},
   "outputs": [],
   "source": [
    "# define Random Forest Model\n",
    "random_forest_model=RandomForestRegressor(n_estimators=1000, random)\n",
    "\n",
    "# define the parameter grid\n",
    "random_forest_param_grid = {\n",
    "    'max_depth': range(5, 20, 5),\n",
    "    'min_samples_split': range(2, 10, 1),\n",
    "    'min_samples_leaf': range(1, 5, 1)\n",
    "}\n",
    "\n",
    "# set up GridSearchCV\n",
    "random_forest_grid_search = GridSearchCV(estimator=random_forest_model, \n",
    "                           param_grid=random_forest_param_grid,\n",
    "                           scoring='neg_mean_squared_error', \n",
    "                           cv=5, n_jobs=-1)\n",
    "\n",
    "# fit models from grid search\n",
    "random_forest_grid_search.fit(train_data_x, train_data_y)\n",
    "\n",
    "# identify optimal parameters and corresponding RMSE\n",
    "print('Random Forest best parameters:', random_forest_grid_search.best_params_)\n",
    "print('RMSE:', np.sqrt(-1 * random_forest_grid_search.best_score_))"
   ]
  },
  {
   "cell_type": "code",
   "execution_count": null,
   "id": "ab3bfaaa-e235-435e-ae99-665f45b1fdcc",
   "metadata": {},
   "outputs": [],
   "source": [
    "# define XGBoost model\n",
    "xgb_model=xgb.XGBRegressor(n_estimators = 1000, eval_metric = 'rmse', enable_categorical=False)\n",
    "\n",
    "# define the parameter grid\n",
    "xgb_param_grid = {\n",
    "    'max_depth': range(3, 10, 1),\n",
    "    'learning_rate': np.arange(0.01, 0.05, 0.005)\n",
    "}\n",
    "\n",
    "# set up GridSearchCV\n",
    "xgb_grid_search = GridSearchCV(estimator=xgb_model, \n",
    "                           param_grid=xgb_param_grid,\n",
    "                           scoring='neg_mean_squared_error', \n",
    "                           cv=5, n_jobs=-1)\n",
    "\n",
    "# fit models from grid search\n",
    "xgb_grid_search.fit(train_data_x, train_data_y)\n",
    "\n",
    "# identify optimal parameters and corresponding RMSE\n",
    "print('XGBoost best parameters:', xgb_grid_search.best_params_)\n",
    "print('RMSE:', np.sqrt(-1 * xgb_grid_search.best_score_))"
   ]
  },
  {
   "cell_type": "code",
   "execution_count": null,
   "id": "8ff83f34-37db-493a-9951-bdf827d523c6",
   "metadata": {},
   "outputs": [],
   "source": [
    "# define the SVR model with radial basis function kernel\n",
    "svr_model = SVR(kernel='rbf')\n",
    "\n",
    "# set up the parameter grid for hyperparameter tuning\n",
    "svr_param_grid = {\n",
    "    'C': np.arange(0.1, 2.0, 0.1),\n",
    "    'epsilon': np.arange(0.01, 0.1, 0.01)\n",
    "}\n",
    "\n",
    "# set up GridSearchCV\n",
    "svr_grid_search = GridSearchCV(estimator=svr_model, \n",
    "                           param_grid=svr_param_grid,\n",
    "                           scoring='neg_mean_squared_error', \n",
    "                           cv=5, n_jobs=-1)\n",
    "\n",
    "# fit models from grid search\n",
    "svr_grid_search.fit(train_data_x, train_data_y)\n",
    "\n",
    "# identify optimal parameters and corresponding RMSE\n",
    "print('SVR best parameters:', svr_grid_search.best_params_)\n",
    "print('RMSE:', np.sqrt(-1 * svr_grid_search.best_score_))"
   ]
  },
  {
   "cell_type": "markdown",
   "id": "62ed6123-c6e1-4fa5-a0e6-f8293aab72ea",
   "metadata": {},
   "source": [
    "# Test Predictions"
   ]
  },
  {
   "cell_type": "code",
   "execution_count": null,
   "id": "33926f8e-3c59-462b-9ecf-9a02d19b5c63",
   "metadata": {},
   "outputs": [],
   "source": [
    "# define test features\n",
    "test_data_x=test_data"
   ]
  },
  {
   "cell_type": "code",
   "execution_count": null,
   "id": "33463a2d-5afd-48b8-9c3f-c3ddb0d516c3",
   "metadata": {},
   "outputs": [],
   "source": [
    "# Random Forest Model\n",
    "final_random_forest_model=RandomForestRegressor(n_estimators=1000,\n",
    "                                                max_depth=15,\n",
    "                                                min_samples_split=2,\n",
    "                                                min_samples_leaf=2)\n",
    "\n",
    "final_random_forest_model.fit(train_data_x, train_data_y)"
   ]
  },
  {
   "cell_type": "code",
   "execution_count": null,
   "id": "f6c2e087-d987-4eda-8392-20872c9eb730",
   "metadata": {},
   "outputs": [],
   "source": [
    "# XGBoost Model\n",
    "final_xgboost_model=xgb.XGBRegressor(n_estimators = 1000,  \n",
    "                                     max_depth=3,\n",
    "                                     learning_rate=0.035,\n",
    "                                     eval_metric = 'rmse',\n",
    "                                     enable_categorical=True)\n",
    "\n",
    "final_xgboost_model.fit(train_data_x, train_data_y)"
   ]
  },
  {
   "cell_type": "code",
   "execution_count": null,
   "id": "39c3760d-9f80-424e-8b6e-2623e816e255",
   "metadata": {},
   "outputs": [],
   "source": [
    "# SVM Model\n",
    "final_svr_model=SVR(kernel='rbf',\n",
    "                    C=1.2,\n",
    "                    epsilon=0.03\n",
    "                   )\n",
    "\n",
    "final_svr_model.fit(train_data_x, train_data_y)"
   ]
  },
  {
   "cell_type": "code",
   "execution_count": null,
   "id": "66506ee6-b00b-4d91-9dd7-452097b7de10",
   "metadata": {},
   "outputs": [],
   "source": [
    "# make predictions\n",
    "y_hat_rf=final_random_forest_model.predict(test_data_x)\n",
    "y_hat_xgb=final_xgboost_model.predict(test_data_x)\n",
    "y_hat_svr=final_svr_model.predict(test_data_x)\n",
    "\n",
    "# compile predictions with testing records\n",
    "pred_df = pd.DataFrame({\n",
    "    'Id':test_data_id,\n",
    "    'rf':np.exp(y_hat_rf),\n",
    "    'xgb':np.exp(y_hat_xgb),\n",
    "    'svr':np.exp(y_hat_svr)\n",
    "})\n",
    "\n",
    "# average predictions of models to create prediction\n",
    "pred_df['SalePrice'] = pred_df[['rf','xgb','svr']].mean(axis=1)\n",
    "\n",
    "# create dataframe and csv for submission\n",
    "final_df = pd.DataFrame(pred_df[['Id','SalePrice']])\n",
    "final_df.to_csv('submission.csv', index=False)"
   ]
  }
 ],
 "metadata": {
  "kernelspec": {
   "display_name": "Python 3",
   "language": "python",
   "name": "python3"
  },
  "language_info": {
   "codemirror_mode": {
    "name": "ipython",
    "version": 3
   },
   "file_extension": ".py",
   "mimetype": "text/x-python",
   "name": "python",
   "nbconvert_exporter": "python",
   "pygments_lexer": "ipython3",
   "version": "3.8.8"
  }
 },
 "nbformat": 4,
 "nbformat_minor": 5
}
